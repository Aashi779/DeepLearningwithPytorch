{
  "nbformat": 4,
  "nbformat_minor": 0,
  "metadata": {
    "colab": {
      "provenance": [],
      "gpuType": "T4",
      "authorship_tag": "ABX9TyPlRNtIcHaQe6Y2F3HE33vc",
      "include_colab_link": true
    },
    "kernelspec": {
      "name": "python3",
      "display_name": "Python 3"
    },
    "language_info": {
      "name": "python"
    },
    "accelerator": "GPU"
  },
  "cells": [
    {
      "cell_type": "markdown",
      "metadata": {
        "id": "view-in-github",
        "colab_type": "text"
      },
      "source": [
        "<a href=\"https://colab.research.google.com/github/Aashi779/DeepLearningwithPytorch/blob/main/ImageProcessingPytorch.ipynb\" target=\"_parent\"><img src=\"https://colab.research.google.com/assets/colab-badge.svg\" alt=\"Open In Colab\"/></a>"
      ]
    },
    {
      "cell_type": "markdown",
      "source": [
        "- torch vision - dataset, model architectures, image transformations\n",
        "- torchvision.dataset\n",
        "- torchvision.models\n",
        "- torchvision.transformers\n",
        "- torchvision.utils.data.DataLoaders"
      ],
      "metadata": {
        "id": "-O1cOux9rB8s"
      }
    },
    {
      "cell_type": "code",
      "source": [
        "# base package\n",
        "import torch\n",
        "# neural network package\n",
        "from torch import nn\n",
        "# torchvision for image processing\n",
        "import torchvision\n",
        "# to load dataset from torchvision\n",
        "from torchvision import datasets\n",
        "# to perfrom transform and augmentation\n",
        "from torchvision.transforms import ToTensor\n",
        "import torch.nn.functional as F\n",
        "# to plot images data\n",
        "import matplotlib\n",
        "import matplotlib.pyplot as plt"
      ],
      "metadata": {
        "id": "ZbrCk9YLat8B"
      },
      "execution_count": 1,
      "outputs": []
    },
    {
      "cell_type": "code",
      "source": [
        "train_data = datasets.FashionMNIST(\n",
        "    root = \"dataset\", # location where data will be downloaded\n",
        "    train = True, # to download training data\n",
        "    download = True, # download data if it doesn't exist\n",
        "    transform = ToTensor(), # convert images into Torch tensor\n",
        "    target_transform = None\n",
        "    )\n",
        "test_data = datasets.FashionMNIST(\n",
        "    root = \"dataset\", # location where data will be downloaded\n",
        "    train = False, # to download training data\n",
        "    download = True, # download data if it doesn't exist\n",
        "    transform = ToTensor(), # convert images into Torch tensor\n",
        "    )"
      ],
      "metadata": {
        "id": "kq8Zf41DbC92",
        "colab": {
          "base_uri": "https://localhost:8080/"
        },
        "outputId": "329ad536-adae-4233-b41c-2dc4c8e898ea"
      },
      "execution_count": 2,
      "outputs": [
        {
          "output_type": "stream",
          "name": "stdout",
          "text": [
            "Downloading http://fashion-mnist.s3-website.eu-central-1.amazonaws.com/train-images-idx3-ubyte.gz\n",
            "Downloading http://fashion-mnist.s3-website.eu-central-1.amazonaws.com/train-images-idx3-ubyte.gz to dataset/FashionMNIST/raw/train-images-idx3-ubyte.gz\n"
          ]
        },
        {
          "output_type": "stream",
          "name": "stderr",
          "text": [
            "100%|██████████| 26421880/26421880 [00:03<00:00, 8393245.88it/s] \n"
          ]
        },
        {
          "output_type": "stream",
          "name": "stdout",
          "text": [
            "Extracting dataset/FashionMNIST/raw/train-images-idx3-ubyte.gz to dataset/FashionMNIST/raw\n",
            "\n",
            "Downloading http://fashion-mnist.s3-website.eu-central-1.amazonaws.com/train-labels-idx1-ubyte.gz\n",
            "Downloading http://fashion-mnist.s3-website.eu-central-1.amazonaws.com/train-labels-idx1-ubyte.gz to dataset/FashionMNIST/raw/train-labels-idx1-ubyte.gz\n"
          ]
        },
        {
          "output_type": "stream",
          "name": "stderr",
          "text": [
            "100%|██████████| 29515/29515 [00:00<00:00, 144323.45it/s]\n"
          ]
        },
        {
          "output_type": "stream",
          "name": "stdout",
          "text": [
            "Extracting dataset/FashionMNIST/raw/train-labels-idx1-ubyte.gz to dataset/FashionMNIST/raw\n",
            "\n",
            "Downloading http://fashion-mnist.s3-website.eu-central-1.amazonaws.com/t10k-images-idx3-ubyte.gz\n",
            "Downloading http://fashion-mnist.s3-website.eu-central-1.amazonaws.com/t10k-images-idx3-ubyte.gz to dataset/FashionMNIST/raw/t10k-images-idx3-ubyte.gz\n"
          ]
        },
        {
          "output_type": "stream",
          "name": "stderr",
          "text": [
            "100%|██████████| 4422102/4422102 [00:01<00:00, 2567600.17it/s]\n"
          ]
        },
        {
          "output_type": "stream",
          "name": "stdout",
          "text": [
            "Extracting dataset/FashionMNIST/raw/t10k-images-idx3-ubyte.gz to dataset/FashionMNIST/raw\n",
            "\n",
            "Downloading http://fashion-mnist.s3-website.eu-central-1.amazonaws.com/t10k-labels-idx1-ubyte.gz\n",
            "Downloading http://fashion-mnist.s3-website.eu-central-1.amazonaws.com/t10k-labels-idx1-ubyte.gz to dataset/FashionMNIST/raw/t10k-labels-idx1-ubyte.gz\n"
          ]
        },
        {
          "output_type": "stream",
          "name": "stderr",
          "text": [
            "100%|██████████| 5148/5148 [00:00<00:00, 3761720.73it/s]"
          ]
        },
        {
          "output_type": "stream",
          "name": "stdout",
          "text": [
            "Extracting dataset/FashionMNIST/raw/t10k-labels-idx1-ubyte.gz to dataset/FashionMNIST/raw\n",
            "\n"
          ]
        },
        {
          "output_type": "stream",
          "name": "stderr",
          "text": [
            "\n"
          ]
        }
      ]
    },
    {
      "cell_type": "code",
      "source": [
        "type(train_data)"
      ],
      "metadata": {
        "colab": {
          "base_uri": "https://localhost:8080/"
        },
        "id": "NlM-i0_WnisK",
        "outputId": "b7545f7d-099c-4ba7-8ca5-94ed84adad87"
      },
      "execution_count": 3,
      "outputs": [
        {
          "output_type": "execute_result",
          "data": {
            "text/plain": [
              "torchvision.datasets.mnist.FashionMNIST"
            ]
          },
          "metadata": {},
          "execution_count": 3
        }
      ]
    },
    {
      "cell_type": "code",
      "source": [
        "# will show number of images and dimension of images\n",
        "train_data.data.shape"
      ],
      "metadata": {
        "colab": {
          "base_uri": "https://localhost:8080/"
        },
        "id": "-Tb6mdQpnlRG",
        "outputId": "02ee6236-3511-40ba-f44d-7568b21d8ac4"
      },
      "execution_count": 4,
      "outputs": [
        {
          "output_type": "execute_result",
          "data": {
            "text/plain": [
              "torch.Size([60000, 28, 28])"
            ]
          },
          "metadata": {},
          "execution_count": 4
        }
      ]
    },
    {
      "cell_type": "code",
      "source": [
        "img, label = train_data[100]"
      ],
      "metadata": {
        "id": "o7JRsLDDegfz"
      },
      "execution_count": 5,
      "outputs": []
    },
    {
      "cell_type": "code",
      "source": [
        "label"
      ],
      "metadata": {
        "colab": {
          "base_uri": "https://localhost:8080/"
        },
        "id": "cLcSMV_wep6K",
        "outputId": "940f3624-af98-48d1-de7d-df82b564199d"
      },
      "execution_count": 6,
      "outputs": [
        {
          "output_type": "execute_result",
          "data": {
            "text/plain": [
              "8"
            ]
          },
          "metadata": {},
          "execution_count": 6
        }
      ]
    },
    {
      "cell_type": "code",
      "source": [
        "img.shape # [color_channel, height, width]"
      ],
      "metadata": {
        "colab": {
          "base_uri": "https://localhost:8080/"
        },
        "id": "3F4w5a9Ee01E",
        "outputId": "9dd810e5-8a1b-4974-f978-63c137c0bba7"
      },
      "execution_count": 7,
      "outputs": [
        {
          "output_type": "execute_result",
          "data": {
            "text/plain": [
              "torch.Size([1, 28, 28])"
            ]
          },
          "metadata": {},
          "execution_count": 7
        }
      ]
    },
    {
      "cell_type": "code",
      "source": [
        "len(train_data.data)"
      ],
      "metadata": {
        "colab": {
          "base_uri": "https://localhost:8080/"
        },
        "id": "f6qJE1qle4OH",
        "outputId": "53ca67e1-7237-47bf-c7af-435d03b03fdd"
      },
      "execution_count": 8,
      "outputs": [
        {
          "output_type": "execute_result",
          "data": {
            "text/plain": [
              "60000"
            ]
          },
          "metadata": {},
          "execution_count": 8
        }
      ]
    },
    {
      "cell_type": "code",
      "source": [
        "len(test_data.data)"
      ],
      "metadata": {
        "colab": {
          "base_uri": "https://localhost:8080/"
        },
        "id": "W2xi3AukfEd7",
        "outputId": "10b99c60-bb25-4713-a6d4-8064e9778685"
      },
      "execution_count": 9,
      "outputs": [
        {
          "output_type": "execute_result",
          "data": {
            "text/plain": [
              "10000"
            ]
          },
          "metadata": {},
          "execution_count": 9
        }
      ]
    },
    {
      "cell_type": "code",
      "source": [
        "# names of classes\n",
        "train_data.classes"
      ],
      "metadata": {
        "colab": {
          "base_uri": "https://localhost:8080/"
        },
        "id": "vyZ6_1IPfF8b",
        "outputId": "4ac130df-35d8-4239-edd2-9a35004133e6"
      },
      "execution_count": 10,
      "outputs": [
        {
          "output_type": "execute_result",
          "data": {
            "text/plain": [
              "['T-shirt/top',\n",
              " 'Trouser',\n",
              " 'Pullover',\n",
              " 'Dress',\n",
              " 'Coat',\n",
              " 'Sandal',\n",
              " 'Shirt',\n",
              " 'Sneaker',\n",
              " 'Bag',\n",
              " 'Ankle boot']"
            ]
          },
          "metadata": {},
          "execution_count": 10
        }
      ]
    },
    {
      "cell_type": "code",
      "source": [
        "plt.imshow(img.squeeze())\n",
        "plt.show()"
      ],
      "metadata": {
        "colab": {
          "base_uri": "https://localhost:8080/",
          "height": 430
        },
        "id": "_bxFMXDffKS_",
        "outputId": "41fe2387-c48f-45bf-e9f7-830325ef1e38"
      },
      "execution_count": 11,
      "outputs": [
        {
          "output_type": "display_data",
          "data": {
            "text/plain": [
              "<Figure size 640x480 with 1 Axes>"
            ],
            "image/png": "[encoded data removed]"
          },
          "metadata": {}
        }
      ]
    },
    {
      "cell_type": "code",
      "source": [
        "plt.imshow(img.squeeze(), cmap = \"gray\")\n",
        "plt.show()"
      ],
      "metadata": {
        "colab": {
          "base_uri": "https://localhost:8080/",
          "height": 430
        },
        "id": "9-jfon9RfQTC",
        "outputId": "ca3b3bee-2443-44dc-eaf9-a9153151fac8"
      },
      "execution_count": 12,
      "outputs": [
        {
          "output_type": "display_data",
          "data": {
            "text/plain": [
              "<Figure size 640x480 with 1 Axes>"
            ],
            "image/png": "[encoded data removed]"
          },
          "metadata": {}
        }
      ]
    },
    {
      "cell_type": "code",
      "source": [
        "img.shape"
      ],
      "metadata": {
        "colab": {
          "base_uri": "https://localhost:8080/"
        },
        "id": "S_HYLDNTfd09",
        "outputId": "dd3667eb-fc25-419c-fb2b-70781780d729"
      },
      "execution_count": 13,
      "outputs": [
        {
          "output_type": "execute_result",
          "data": {
            "text/plain": [
              "torch.Size([1, 28, 28])"
            ]
          },
          "metadata": {},
          "execution_count": 13
        }
      ]
    },
    {
      "cell_type": "code",
      "source": [
        "img.squeeze().shape"
      ],
      "metadata": {
        "colab": {
          "base_uri": "https://localhost:8080/"
        },
        "id": "_g9I8IX7fyV5",
        "outputId": "e2d13c23-2f8f-4ec6-b306-0a14cb5f2a44"
      },
      "execution_count": 14,
      "outputs": [
        {
          "output_type": "execute_result",
          "data": {
            "text/plain": [
              "torch.Size([28, 28])"
            ]
          },
          "metadata": {},
          "execution_count": 14
        }
      ]
    },
    {
      "cell_type": "code",
      "source": [
        "class_names = train_data.classes\n",
        "\n",
        "fig = plt.figure(figsize = (6, 8))\n",
        "rows = 4\n",
        "cols = 4\n",
        "for i in range(1, rows*cols + 1):\n",
        "  # get a random number between 0 to 60000\n",
        "  random_index = torch.randint(0, len(train_data), size = [1]).item()\n",
        "  # get image and target of that random index\n",
        "  img, target = train_data[random_index]\n",
        "  # add subplot for each image\n",
        "  fig.add_subplot(rows, cols, i)\n",
        "  # plot image using matplotlib, cmap - set color map as grayscale\n",
        "  plt.imshow(img.squeeze(), cmap = \"gray\")\n",
        "  # add title on each subplot\n",
        "  plt.title(class_names[target])\n",
        "  # exclude x and y axis labels\n",
        "  plt.axis(False)"
      ],
      "metadata": {
        "colab": {
          "base_uri": "https://localhost:8080/",
          "height": 642
        },
        "id": "6Ken79AaovhS",
        "outputId": "435af0cf-e53c-4df9-8cc4-e1b7976766bc"
      },
      "execution_count": 15,
      "outputs": [
        {
          "output_type": "display_data",
          "data": {
            "text/plain": [
              "<Figure size 600x800 with 16 Axes>"
            ],
            "image/png": "[encoded data removed]"
          },
          "metadata": {}
        }
      ]
    },
    {
      "cell_type": "markdown",
      "source": [
        "Helpful for data visualization in research paper"
      ],
      "metadata": {
        "id": "g7RYwlGOquqF"
      }
    },
    {
      "cell_type": "code",
      "source": [
        "# Data loaders - used to load data, turns large datasets into smaller chunks\n",
        "# known as batches or mini-batch, generally we put chunk size of 32\n",
        "\n"
      ],
      "metadata": {
        "id": "yrkUQ7jVpFjQ"
      },
      "execution_count": 17,
      "outputs": []
    },
    {
      "cell_type": "code",
      "source": [
        "# number of batches, each batch having 32 images\n",
        "60000/32"
      ],
      "metadata": {
        "colab": {
          "base_uri": "https://localhost:8080/"
        },
        "id": "mZRqiwGGs-Yt",
        "outputId": "ebafc854-a70f-4899-f168-073b0316ef0b"
      },
      "execution_count": 16,
      "outputs": [
        {
          "output_type": "execute_result",
          "data": {
            "text/plain": [
              "1875.0"
            ]
          },
          "metadata": {},
          "execution_count": 16
        }
      ]
    },
    {
      "cell_type": "code",
      "source": [
        "from torch.utils.data import DataLoader"
      ],
      "metadata": {
        "id": "ZTAKAVSltCuS"
      },
      "execution_count": 17,
      "outputs": []
    },
    {
      "cell_type": "code",
      "source": [
        "BATCH_SIZE = 32\n",
        "train_data_loader = DataLoader(train_data, # dataset to be converted into batches\n",
        "                               batch_size = BATCH_SIZE,\n",
        "                               shuffle = True) # shuffle the images for each epoch\n",
        "test_data_loader = DataLoader(test_data,\n",
        "                               batch_size = BATCH_SIZE, # how many samples per batch\n",
        "                               shuffle = False)"
      ],
      "metadata": {
        "id": "nLZm823kttvH"
      },
      "execution_count": 18,
      "outputs": []
    },
    {
      "cell_type": "code",
      "source": [
        "# Build Base model - for classifying - ANN\n",
        "class Model(nn.Module):\n",
        "  def __init__(self, input_shape, hidden_units, output_shape):\n",
        "    super().__init__()\n",
        "    self.layer_stack = nn.Sequential(\n",
        "        nn.Flatten(), # [1, 28, 28] to [1, 28*28] -> 3d to 2d\n",
        "        nn.Linear(in_features = input_shape, out_features = hidden_units),\n",
        "        nn.ReLU(),\n",
        "        nn.Linear(in_features = hidden_units, out_features = output_shape),\n",
        "        nn.ReLU()\n",
        "    )\n",
        "  def forward(self, x):\n",
        "    return self.layer_stack(x)\n",
        "\n",
        "# Why have we flatten the images - Multi-Dimensional arrays take more amount of\n",
        "# memory while 1-D arrays take less memory, which is the most important reason why\n",
        "#  we flatten the Image Array before processing/feeding the information to our\n",
        "#  model. In most cases, we will be dealing with a dataset which contains a large\n",
        "#  amount of images thus flattening helps in decreasing the memory as well as\n",
        "#  reducing the time to train the model."
      ],
      "metadata": {
        "id": "lQwJtiRquCZz"
      },
      "execution_count": 21,
      "outputs": []
    },
    {
      "cell_type": "code",
      "source": [
        "# CNN model\n",
        "class Model(nn.Module):\n",
        "  def __init__(self):\n",
        "    super().__init__()\n",
        "    # in_channels - 3 - number of channels in input image - if color then 3 otherwise 1\n",
        "    # out_channels - 6 - number of channels/filters produced by convolution\n",
        "    # kernel_size - (3,3) / 3\n",
        "    self.conv1 = nn.Conv2d(1,6,5)\n",
        "    # Poolin Layer - MaxPool2d(pool_size, stride)\n",
        "    self.pool = nn.MaxPool2d(2,2)\n",
        "    # Convolutional Layer\n",
        "    self.conv2 = nn.Conv2d(6,16,5)\n",
        "    # Fully Connected Layer - ANN\n",
        "    # Hidden Layer\n",
        "    self.fc_1 = nn.Linear(16*4*4, 64)\n",
        "    # Hidden Layer\n",
        "    self.fc_2 = nn.Linear(64,32)\n",
        "    # Output Layer, 10 - 10 classes\n",
        "    self.fc_3 = nn.Linear(32,10)\n",
        "\n",
        "  def forward(self, x):\n",
        "    # apply convolutional + activation + max pooling\n",
        "    x = self.pool(F.relu(self.conv1(x)))\n",
        "    x = self.pool(F.relu(self.conv2(x)))\n",
        "    # x = torch.flatten(x,1)\n",
        "    x = x.reshape(-1, 16*4*4)\n",
        "    x = F.tanh(self.fc_1(x))\n",
        "    x = F.tanh(self.fc_2(x))\n",
        "    x = self.fc_3(x)\n",
        "    return x\n",
        ""
      ],
      "metadata": {
        "id": "u00jBO7Xx74-"
      },
      "execution_count": 19,
      "outputs": []
    },
    {
      "cell_type": "code",
      "source": [
        "model = Model()"
      ],
      "metadata": {
        "id": "lu29cxQz03RA"
      },
      "execution_count": 20,
      "outputs": []
    },
    {
      "cell_type": "code",
      "source": [
        "# create an object of the class\n",
        "# input_shape = 784 that is 28*28 -> number of input features\n",
        "# hidden units = neurons in hidden layer\n",
        "# output_shape = 10 since we have 10 categories\n",
        "\n",
        "model = Model(input_shape = 784, hidden_units = 64, output_shape = len(class_names))\n"
      ],
      "metadata": {
        "id": "5yVGitjpkhzD",
        "colab": {
          "base_uri": "https://localhost:8080/",
          "height": 217
        },
        "outputId": "f1c11c9d-a959-4231-a728-063b17d22c2b"
      },
      "execution_count": 24,
      "outputs": [
        {
          "output_type": "error",
          "ename": "TypeError",
          "evalue": "ignored",
          "traceback": [
            "\u001b[0;31m---------------------------------------------------------------------------\u001b[0m",
            "\u001b[0;31mTypeError\u001b[0m                                 Traceback (most recent call last)",
            "\u001b[0;32m<ipython-input-24-debf4828e00d>\u001b[0m in \u001b[0;36m<cell line: 6>\u001b[0;34m()\u001b[0m\n\u001b[1;32m      4\u001b[0m \u001b[0;31m# output_shape = 10 since we have 10 categories\u001b[0m\u001b[0;34m\u001b[0m\u001b[0;34m\u001b[0m\u001b[0m\n\u001b[1;32m      5\u001b[0m \u001b[0;34m\u001b[0m\u001b[0m\n\u001b[0;32m----> 6\u001b[0;31m \u001b[0mmodel\u001b[0m \u001b[0;34m=\u001b[0m \u001b[0mModel\u001b[0m\u001b[0;34m(\u001b[0m\u001b[0minput_shape\u001b[0m \u001b[0;34m=\u001b[0m \u001b[0;36m784\u001b[0m\u001b[0;34m,\u001b[0m \u001b[0mhidden_units\u001b[0m \u001b[0;34m=\u001b[0m \u001b[0;36m64\u001b[0m\u001b[0;34m,\u001b[0m \u001b[0moutput_shape\u001b[0m \u001b[0;34m=\u001b[0m \u001b[0mlen\u001b[0m\u001b[0;34m(\u001b[0m\u001b[0mclass_names\u001b[0m\u001b[0;34m)\u001b[0m\u001b[0;34m)\u001b[0m\u001b[0;34m\u001b[0m\u001b[0;34m\u001b[0m\u001b[0m\n\u001b[0m",
            "\u001b[0;31mTypeError\u001b[0m: Model.__init__() got an unexpected keyword argument 'input_shape'"
          ]
        }
      ]
    },
    {
      "cell_type": "code",
      "source": [
        "model.to(\"cuda\")"
      ],
      "metadata": {
        "colab": {
          "base_uri": "https://localhost:8080/"
        },
        "id": "OXjdNPt8nmuE",
        "outputId": "53b8ead0-b7dc-431c-b12e-f825fc4d7223"
      },
      "execution_count": 21,
      "outputs": [
        {
          "output_type": "execute_result",
          "data": {
            "text/plain": [
              "Model(\n",
              "  (conv1): Conv2d(1, 6, kernel_size=(5, 5), stride=(1, 1))\n",
              "  (pool): MaxPool2d(kernel_size=2, stride=2, padding=0, dilation=1, ceil_mode=False)\n",
              "  (conv2): Conv2d(6, 16, kernel_size=(5, 5), stride=(1, 1))\n",
              "  (fc_1): Linear(in_features=256, out_features=64, bias=True)\n",
              "  (fc_2): Linear(in_features=64, out_features=32, bias=True)\n",
              "  (fc_3): Linear(in_features=32, out_features=10, bias=True)\n",
              ")"
            ]
          },
          "metadata": {},
          "execution_count": 21
        }
      ]
    },
    {
      "cell_type": "markdown",
      "source": [
        "Here we are dealing with multiclassification problems\n"
      ],
      "metadata": {
        "id": "HsRcoZVKn7Kz"
      }
    },
    {
      "cell_type": "code",
      "source": [
        "# Evaluation metric\n",
        "def accuracy(y_true, y_pred):\n",
        "  correct_classification = torch.eq(y_true, y_pred).sum().item()\n",
        "  acc = (correct_classification/len(y_pred))*100\n",
        "  return acc\n"
      ],
      "metadata": {
        "id": "2h43gHlhn3QS"
      },
      "execution_count": 22,
      "outputs": []
    },
    {
      "cell_type": "code",
      "source": [
        "# Loss function, since it is a multiclassification problem that is why we are using cross entropy\n",
        "loss_function = nn.CrossEntropyLoss()\n",
        "optimizer = torch.optim.Adam(params = model.parameters(), lr = 0.01)"
      ],
      "metadata": {
        "id": "MPxHmOfXwyBG"
      },
      "execution_count": 23,
      "outputs": []
    },
    {
      "cell_type": "markdown",
      "source": [
        "The torch. device enables you to specify the device type responsible to load a tensor into memory. The function expects a string argument specifying the device type. You can even pass an ordinal like the device index. or leave it unspecified for PyTorch to use the currently available device."
      ],
      "metadata": {
        "id": "vuz6fa3oy9H0"
      }
    },
    {
      "cell_type": "code",
      "source": [
        "def train_step(model, data_loader, loss_fn, optimizer, accuracy, device):\n",
        "  train_loss, train_acc = 0, 0\n",
        "  model.to(device)\n",
        "\n",
        "  for batch, (X,y) in enumerate(data_loader):\n",
        "    X,y = X.to(device), y.to(device)\n",
        "\n",
        "    # Feedforward\n",
        "    y_pred = model(X)\n",
        "\n",
        "    # Calculate loss\n",
        "    loss = loss_fn(y_pred, y)\n",
        "    train_loss += loss\n",
        "    train_acc += accuracy(y, y_pred.argmax(dim=1))\n",
        "    # Backpropagate\n",
        "    optimizer.zero_grad()\n",
        "    # Loss Backward\n",
        "    loss.backward()\n",
        "    # optimizer step\n",
        "    optimizer.step()\n",
        "\n",
        "  train_loss /= len(data_loader)\n",
        "  train_acc /= len(data_loader)\n",
        "  print(f\"Train Acc : {train_acc:.3f} | Train Loss : {train_loss:.3f}\\n\")\n",
        "\n",
        "def test_step(model, data_loader, loss_fn, accuracy, device):\n",
        "  test_loss, test_acc = 0, 0\n",
        "  model.to(device)\n",
        "  model.eval()\n",
        "\n",
        "  with torch.inference_mode():\n",
        "    for X,y in data_loader:\n",
        "      X,y = X.to(device), y.to(device)\n",
        "\n",
        "      # Feedforward\n",
        "      y_pred = model(X)\n",
        "\n",
        "      # Calculate loss\n",
        "      loss = loss_fn(y_pred, y)\n",
        "      test_loss += loss\n",
        "      test_acc += accuracy(y, y_pred.argmax(dim=1))\n",
        "\n",
        "    test_loss /= len(data_loader)\n",
        "    test_acc /= len(data_loader)\n",
        "    print(f\"\\nTest Acc : {test_acc:.3f} | Test Loss : {test_loss:.3f}\\n\")\n",
        "\n",
        "# argmax - gives the index of max probability element"
      ],
      "metadata": {
        "id": "6yqb2P6xxObE"
      },
      "execution_count": 24,
      "outputs": []
    },
    {
      "cell_type": "code",
      "source": [
        "# tqdm = used to show progress of loop\n",
        "from tqdm import tqdm\n",
        "\n",
        "epochs = 8\n",
        "for epoch in tqdm(range(epochs)):\n",
        "  print(f\"Epoch: {epoch}\\n\")\n",
        "  train_step(model, train_data_loader, loss_function, optimizer, accuracy, \"cuda\")\n",
        "  test_step(model, test_data_loader, loss_function, accuracy, \"cuda\")"
      ],
      "metadata": {
        "colab": {
          "base_uri": "https://localhost:8080/"
        },
        "id": "nLnRfR9TyVki",
        "outputId": "5d77ef4a-3ee2-4dca-d4c7-b31ba153357a"
      },
      "execution_count": 25,
      "outputs": [
        {
          "output_type": "stream",
          "name": "stderr",
          "text": [
            "\r  0%|          | 0/8 [00:00<?, ?it/s]"
          ]
        },
        {
          "output_type": "stream",
          "name": "stdout",
          "text": [
            "Epoch: 0\n",
            "\n",
            "Train Acc : 78.167 | Train Loss : 0.591\n",
            "\n"
          ]
        },
        {
          "output_type": "stream",
          "name": "stderr",
          "text": [
            "\r 12%|█▎        | 1/8 [00:14<01:44, 14.93s/it]"
          ]
        },
        {
          "output_type": "stream",
          "name": "stdout",
          "text": [
            "\n",
            "Test Acc : 75.699 | Test Loss : 0.632\n",
            "\n",
            "Epoch: 1\n",
            "\n",
            "Train Acc : 79.738 | Train Loss : 0.549\n",
            "\n"
          ]
        },
        {
          "output_type": "stream",
          "name": "stderr",
          "text": [
            "\r 25%|██▌       | 2/8 [00:28<01:26, 14.39s/it]"
          ]
        },
        {
          "output_type": "stream",
          "name": "stdout",
          "text": [
            "\n",
            "Test Acc : 79.613 | Test Loss : 0.535\n",
            "\n",
            "Epoch: 2\n",
            "\n",
            "Train Acc : 80.052 | Train Loss : 0.540\n",
            "\n"
          ]
        },
        {
          "output_type": "stream",
          "name": "stderr",
          "text": [
            "\r 38%|███▊      | 3/8 [00:42<01:10, 14.10s/it]"
          ]
        },
        {
          "output_type": "stream",
          "name": "stdout",
          "text": [
            "\n",
            "Test Acc : 77.157 | Test Loss : 0.607\n",
            "\n",
            "Epoch: 3\n",
            "\n",
            "Train Acc : 80.035 | Train Loss : 0.541\n",
            "\n"
          ]
        },
        {
          "output_type": "stream",
          "name": "stderr",
          "text": [
            "\r 50%|█████     | 4/8 [00:56<00:55, 13.87s/it]"
          ]
        },
        {
          "output_type": "stream",
          "name": "stdout",
          "text": [
            "\n",
            "Test Acc : 77.756 | Test Loss : 0.594\n",
            "\n",
            "Epoch: 4\n",
            "\n",
            "Train Acc : 78.368 | Train Loss : 0.568\n",
            "\n"
          ]
        },
        {
          "output_type": "stream",
          "name": "stderr",
          "text": [
            "\r 62%|██████▎   | 5/8 [01:09<00:41, 13.76s/it]"
          ]
        },
        {
          "output_type": "stream",
          "name": "stdout",
          "text": [
            "\n",
            "Test Acc : 78.544 | Test Loss : 0.588\n",
            "\n",
            "Epoch: 5\n",
            "\n",
            "Train Acc : 78.065 | Train Loss : 0.577\n",
            "\n"
          ]
        },
        {
          "output_type": "stream",
          "name": "stderr",
          "text": [
            "\r 75%|███████▌  | 6/8 [01:24<00:28, 14.00s/it]"
          ]
        },
        {
          "output_type": "stream",
          "name": "stdout",
          "text": [
            "\n",
            "Test Acc : 75.679 | Test Loss : 0.652\n",
            "\n",
            "Epoch: 6\n",
            "\n",
            "Train Acc : 77.970 | Train Loss : 0.582\n",
            "\n"
          ]
        },
        {
          "output_type": "stream",
          "name": "stderr",
          "text": [
            "\r 88%|████████▊ | 7/8 [01:37<00:13, 13.86s/it]"
          ]
        },
        {
          "output_type": "stream",
          "name": "stdout",
          "text": [
            "\n",
            "Test Acc : 75.160 | Test Loss : 0.622\n",
            "\n",
            "Epoch: 7\n",
            "\n",
            "Train Acc : 78.193 | Train Loss : 0.582\n",
            "\n"
          ]
        },
        {
          "output_type": "stream",
          "name": "stderr",
          "text": [
            "100%|██████████| 8/8 [01:51<00:00, 13.95s/it]"
          ]
        },
        {
          "output_type": "stream",
          "name": "stdout",
          "text": [
            "\n",
            "Test Acc : 77.216 | Test Loss : 0.599\n",
            "\n"
          ]
        },
        {
          "output_type": "stream",
          "name": "stderr",
          "text": [
            "\n"
          ]
        }
      ]
    }
  ]
}